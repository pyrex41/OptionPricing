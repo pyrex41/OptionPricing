{
 "cells": [
  {
   "cell_type": "code",
   "execution_count": 1,
   "metadata": {},
   "outputs": [],
   "source": [
    "import math\n",
    "from BS import GBlackScholes, ImpliedVolatility"
   ]
  },
  {
   "cell_type": "code",
   "execution_count": 2,
   "metadata": {},
   "outputs": [
    {
     "data": {
      "text/plain": [
       "0.7003604332868295"
      ]
     },
     "execution_count": 2,
     "metadata": {},
     "output_type": "execute_result"
    }
   ],
   "source": [
    "ImpliedVolatility(\"call\", 6.00, 100, 105, 30/365, .02, 0.0)"
   ]
  },
  {
   "cell_type": "code",
   "execution_count": 3,
   "metadata": {},
   "outputs": [
    {
     "data": {
      "text/plain": [
       "0.7487684002427318"
      ]
     },
     "execution_count": 3,
     "metadata": {},
     "output_type": "execute_result"
    }
   ],
   "source": [
    "ImpliedVolatility(\"put\", 6.00, 100, 95, 30/365, .02, 0.0)"
   ]
  },
  {
   "cell_type": "code",
   "execution_count": 4,
   "metadata": {},
   "outputs": [],
   "source": [
    "# https://arxiv.org/pdf/1908.02347.pdf\n",
    "def put_expression(k, s, a):\n",
    "    return (-1)**(1-a) * s**(-a) * ((a -1)*k + s) - (k - s)**(1 - a)"
   ]
  },
  {
   "cell_type": "code",
   "execution_count": 5,
   "metadata": {},
   "outputs": [
    {
     "data": {
      "text/plain": [
       "(-0.00033285787283606817-0.00033285787283606833j)"
      ]
     },
     "execution_count": 5,
     "metadata": {},
     "output_type": "execute_result"
    }
   ],
   "source": [
    "put_expression(50, 100, 2.75)"
   ]
  },
  {
   "cell_type": "code",
   "execution_count": 6,
   "metadata": {},
   "outputs": [],
   "source": [
    "# K1 --> closer to the money option with known price p_K1 / c_K1\n",
    "# K2 --> out-of-the-money option we are trying to price relatively\n",
    "# S0 --> underlying price\n",
    "# alpha --> tail distribution exponent"
   ]
  },
  {
   "cell_type": "code",
   "execution_count": 7,
   "metadata": {},
   "outputs": [],
   "source": [
    "def relative_put(K1, p_K1, K2, S0, alpha=2.75):\n",
    "    assert K1 > K2\n",
    "    ee = p_K1 * put_expression(K2, S0, alpha) / put_expression(K1, S0, alpha)\n",
    "    return ee.real"
   ]
  },
  {
   "cell_type": "code",
   "execution_count": 8,
   "metadata": {},
   "outputs": [
    {
     "data": {
      "text/plain": [
       "0.15214072133580922"
      ]
     },
     "execution_count": 8,
     "metadata": {},
     "output_type": "execute_result"
    }
   ],
   "source": [
    "p_K2 = relative_put(290, 2.90, 200, 317.89, 2.75)# <--- prices from 290 SPY strike w/30 days left at 3:40pm EST 7/14/20\n",
    "p_K2 #<--- damn close; 200 strike is $.14 bid / $.15 offer"
   ]
  },
  {
   "cell_type": "code",
   "execution_count": 9,
   "metadata": {},
   "outputs": [
    {
     "data": {
      "text/plain": [
       "0.3411224959974112"
      ]
     },
     "execution_count": 9,
     "metadata": {},
     "output_type": "execute_result"
    }
   ],
   "source": [
    "ImpliedVolatility(\"put\", 2.90,317.89,290, 31/365, 0.0, 0.0)"
   ]
  },
  {
   "cell_type": "code",
   "execution_count": 10,
   "metadata": {},
   "outputs": [
    {
     "data": {
      "text/plain": [
       "0.6742495741089689"
      ]
     },
     "execution_count": 10,
     "metadata": {},
     "output_type": "execute_result"
    }
   ],
   "source": [
    "ImpliedVolatility(\"put\", p_K2,317.89,200, 31/365, 0.0, 0.0)"
   ]
  },
  {
   "cell_type": "code",
   "execution_count": 11,
   "metadata": {},
   "outputs": [],
   "source": [
    "def relative_call_2(K1, c_K1, K2, S0, alpha=2.75):\n",
    "    assert K1 < K2\n",
    "    return c_K1 * ((K2-S0)/(K1-S0))**(1-alpha)"
   ]
  },
  {
   "cell_type": "code",
   "execution_count": 12,
   "metadata": {},
   "outputs": [
    {
     "data": {
      "text/plain": [
       "0.3780891138970195"
      ]
     },
     "execution_count": 12,
     "metadata": {},
     "output_type": "execute_result"
    }
   ],
   "source": [
    "c_K2 = relative_call_2(325, 5.30, 350, 317.90, 2.75) # prices from SPY 320 strike 3:45 EST 7/14/20\n",
    "c_K2 # <-- again damn close to market b/o at $.35/$.36"
   ]
  },
  {
   "cell_type": "code",
   "execution_count": 13,
   "metadata": {},
   "outputs": [
    {
     "data": {
      "text/plain": [
       "0.22415623235315038"
      ]
     },
     "execution_count": 13,
     "metadata": {},
     "output_type": "execute_result"
    }
   ],
   "source": [
    "ImpliedVolatility(\"call\", 5.30,317.90,325, 31/365, 0.0, 0.0)"
   ]
  },
  {
   "cell_type": "code",
   "execution_count": 14,
   "metadata": {},
   "outputs": [
    {
     "data": {
      "text/plain": [
       "0.1976866639825468"
      ]
     },
     "execution_count": 14,
     "metadata": {},
     "output_type": "execute_result"
    }
   ],
   "source": [
    "ImpliedVolatility(\"call\", c_K2,317.90,350, 31/365, 0.0, 0.0)"
   ]
  },
  {
   "cell_type": "code",
   "execution_count": null,
   "metadata": {},
   "outputs": [],
   "source": []
  }
 ],
 "metadata": {
  "kernelspec": {
   "display_name": "Python 3",
   "language": "python",
   "name": "python3"
  },
  "language_info": {
   "codemirror_mode": {
    "name": "ipython",
    "version": 3
   },
   "file_extension": ".py",
   "mimetype": "text/x-python",
   "name": "python",
   "nbconvert_exporter": "python",
   "pygments_lexer": "ipython3",
   "version": "3.9.1"
  }
 },
 "nbformat": 4,
 "nbformat_minor": 2
}
