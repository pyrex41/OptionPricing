{
 "cells": [
  {
   "cell_type": "code",
   "execution_count": 1,
   "metadata": {},
   "outputs": [],
   "source": [
    "import math"
   ]
  },
  {
   "cell_type": "code",
   "execution_count": 9,
   "metadata": {},
   "outputs": [],
   "source": [
    "def phi(x):\n",
    "    return 1/2 * (1 + math.erf(x / math.sqrt(2)))"
   ]
  },
  {
   "cell_type": "code",
   "execution_count": 10,
   "metadata": {},
   "outputs": [],
   "source": [
    "def GBlackScholes(side, S, X, T, r, sigma, q):\n",
    "    s_side = side.lower()\n",
    "    assert s_side in [\"put\", \"call\"]\n",
    "    b = r - q\n",
    "    d1 = (math.log(S/X) + (b + (sigma**2)/2)*T) / (sigma * math.sqrt(T))\n",
    "    d2 = d1 - sigma * math.sqrt(T)\n",
    "    ii = 1 if s_side == \"call\" else -1\n",
    "    out = ii*S*math.exp((b-r)*T) * phi(ii*d1) - ii*X*math.exp(-r*T) * phi(ii*d2)\n",
    "    return out\n",
    "    "
   ]
  },
  {
   "cell_type": "code",
   "execution_count": 11,
   "metadata": {},
   "outputs": [],
   "source": [
    "def iter(v1,v2,p1,p2,p,vf,pf,epsilon=1e-10):\n",
    "    vi = vf(v1,v2,p1,p2)\n",
    "    pv = pf(vi)\n",
    "    ee = abs(p-pv) < epsilon\n",
    "    if pv < p:\n",
    "        vv1 = vi\n",
    "        pp1 = pv\n",
    "        vv2 = v2\n",
    "        pp2 = p2\n",
    "        return vv1,vv2,pp1,pp2,ee,True\n",
    "    else:\n",
    "        vv1 = v1\n",
    "        pp1 = p1\n",
    "        vv2 = vi\n",
    "        pp2 = pv\n",
    "        return vv1, vv2, pp1, pp2, ee, False"
   ]
  },
  {
   "cell_type": "code",
   "execution_count": 17,
   "metadata": {},
   "outputs": [],
   "source": [
    "def ImpliedVolatility(side, p, S, X, T, r, q, epsilon=1e-8):\n",
    "    sside = side.lower()\n",
    "    assert sside in [\"put\", \"call\"]\n",
    "    if sside == \"put\":\n",
    "        assert X <= S\n",
    "    else:\n",
    "        assert X >= S\n",
    "    \n",
    "    v1_init = 0.005\n",
    "    v2_init = 4\n",
    "    \n",
    "    def vi_func(v1,v2,p1,p2):\n",
    "        return v1 + (p-p1)*(v2-v1)/(p2-p1)\n",
    "    def price_func(v):\n",
    "        return GBlackScholes(sside, S, X, T, r, v, q)\n",
    "    \n",
    "    p1_init = price_func(v1_init)\n",
    "    p2_init = price_func(v2_init)\n",
    "    \n",
    "    v1,v2,p1,p2, _, low = iter(v1_init, v2_init, p1_init, p2_init, p, vi_func, price_func, epsilon)\n",
    "    \n",
    "    i=0\n",
    "    while i<1000:\n",
    "        v1,v2,p1,p2,retBool,low = iter(v1,v2,p1,p2,p,vi_func, price_func)\n",
    "        if retBool:\n",
    "            if low:\n",
    "                return v1\n",
    "            else:\n",
    "                return v2\n",
    "        i += 1\n",
    "    if low:\n",
    "        return v1\n",
    "    else:\n",
    "        return v2"
   ]
  },
  {
   "cell_type": "code",
   "execution_count": 18,
   "metadata": {},
   "outputs": [
    {
     "data": {
      "text/plain": [
       "0.7003604332868295"
      ]
     },
     "execution_count": 18,
     "metadata": {},
     "output_type": "execute_result"
    }
   ],
   "source": [
    "ImpliedVolatility(\"call\", 6.00, 100, 105, 30/365, .02, 0.0)"
   ]
  },
  {
   "cell_type": "code",
   "execution_count": 19,
   "metadata": {},
   "outputs": [
    {
     "data": {
      "text/plain": [
       "0.7487684002427318"
      ]
     },
     "execution_count": 19,
     "metadata": {},
     "output_type": "execute_result"
    }
   ],
   "source": [
    "ImpliedVolatility(\"put\", 6.00, 100, 95, 30/365, .02, 0.0)"
   ]
  },
  {
   "cell_type": "code",
   "execution_count": 20,
   "metadata": {},
   "outputs": [],
   "source": [
    "# https://arxiv.org/pdf/1908.02347.pdf\n",
    "def put_expression(k, s, a):\n",
    "    return (-1)**(1-a) * s**(-a) * ((a -1)*k + s) - (k - s)**(1 - a)"
   ]
  },
  {
   "cell_type": "code",
   "execution_count": 21,
   "metadata": {},
   "outputs": [
    {
     "data": {
      "text/plain": [
       "(-0.00033285787283606817-0.00033285787283606833j)"
      ]
     },
     "execution_count": 21,
     "metadata": {},
     "output_type": "execute_result"
    }
   ],
   "source": [
    "put_expression(50, 100, 2.75)"
   ]
  },
  {
   "cell_type": "code",
   "execution_count": 28,
   "metadata": {},
   "outputs": [],
   "source": [
    "# K1 --> closer to the money option with known price p_K1 / c_K1\n",
    "# K2 --> out-of-the-money option we are trying to price relatively\n",
    "# S0 --> underlying price\n",
    "# alpha --> tail distribution exponent"
   ]
  },
  {
   "cell_type": "code",
   "execution_count": 53,
   "metadata": {},
   "outputs": [],
   "source": [
    "def relative_put(K1, p_K1, K2, S0, alpha=2.75):\n",
    "    assert K1 > K2\n",
    "    ee = p_K1 * put_expression(K2, S0, alpha) / put_expression(K1, S0, alpha)\n",
    "    return ee.real"
   ]
  },
  {
   "cell_type": "code",
   "execution_count": 67,
   "metadata": {},
   "outputs": [
    {
     "data": {
      "text/plain": [
       "0.15214072133580922"
      ]
     },
     "execution_count": 67,
     "metadata": {},
     "output_type": "execute_result"
    }
   ],
   "source": [
    "p_K2 = relative_put(290, 2.90, 200, 317.89, 2.75)# <--- prices from 290 SPY strike w/30 days left at 3:40pm EST 7/14/20\n",
    "p_K2 #<--- damn close; 200 strike is $.14 bid / $.15 offer"
   ]
  },
  {
   "cell_type": "code",
   "execution_count": 83,
   "metadata": {},
   "outputs": [
    {
     "data": {
      "text/plain": [
       "0.3411224959974112"
      ]
     },
     "execution_count": 83,
     "metadata": {},
     "output_type": "execute_result"
    }
   ],
   "source": [
    "ImpliedVolatility(\"put\", 2.90,317.89,290, 31/365, 0.0, 0.0)"
   ]
  },
  {
   "cell_type": "code",
   "execution_count": 84,
   "metadata": {},
   "outputs": [
    {
     "data": {
      "text/plain": [
       "0.6742495741089689"
      ]
     },
     "execution_count": 84,
     "metadata": {},
     "output_type": "execute_result"
    }
   ],
   "source": [
    "ImpliedVolatility(\"put\", p_K2,317.89,200, 31/365, 0.0, 0.0)"
   ]
  },
  {
   "cell_type": "code",
   "execution_count": 61,
   "metadata": {},
   "outputs": [],
   "source": [
    "def relative_call_2(K1, c_K1, K2, S0, alpha=2.75):\n",
    "    assert K1 < K2\n",
    "    return c_K1 * ((K2-S0)/(K1-S0))**(1-alpha)"
   ]
  },
  {
   "cell_type": "code",
   "execution_count": 87,
   "metadata": {},
   "outputs": [
    {
     "data": {
      "text/plain": [
       "0.3780891138970195"
      ]
     },
     "execution_count": 87,
     "metadata": {},
     "output_type": "execute_result"
    }
   ],
   "source": [
    "c_K2 = relative_call_2(325, 5.30, 350, 317.90, 2.75) # prices from SPY 320 strike 3:45 EST 7/14/20\n",
    "c_K2 # <-- again damn close to market b/o at $.35/$.36"
   ]
  },
  {
   "cell_type": "code",
   "execution_count": 88,
   "metadata": {},
   "outputs": [
    {
     "data": {
      "text/plain": [
       "0.22415623235315038"
      ]
     },
     "execution_count": 88,
     "metadata": {},
     "output_type": "execute_result"
    }
   ],
   "source": [
    "ImpliedVolatility(\"call\", 5.30,317.90,325, 31/365, 0.0, 0.0)"
   ]
  },
  {
   "cell_type": "code",
   "execution_count": 89,
   "metadata": {},
   "outputs": [
    {
     "data": {
      "text/plain": [
       "0.1976866639825468"
      ]
     },
     "execution_count": 89,
     "metadata": {},
     "output_type": "execute_result"
    }
   ],
   "source": [
    "ImpliedVolatility(\"call\", c_K2,317.90,350, 31/365, 0.0, 0.0)"
   ]
  },
  {
   "cell_type": "code",
   "execution_count": null,
   "metadata": {},
   "outputs": [],
   "source": []
  }
 ],
 "metadata": {
  "kernelspec": {
   "display_name": "Python 3",
   "language": "python",
   "name": "python3"
  },
  "language_info": {
   "codemirror_mode": {
    "name": "ipython",
    "version": 3
   },
   "file_extension": ".py",
   "mimetype": "text/x-python",
   "name": "python",
   "nbconvert_exporter": "python",
   "pygments_lexer": "ipython3",
   "version": "3.7.6"
  }
 },
 "nbformat": 4,
 "nbformat_minor": 2
}
