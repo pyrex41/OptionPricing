{
 "cells": [
  {
   "cell_type": "code",
   "execution_count": 1,
   "id": "surgical-jacksonville",
   "metadata": {},
   "outputs": [],
   "source": [
    "from Kelly_Analytic import *\n",
    "from scipy.stats import norm\n",
    "from random import gauss, seed\n",
    "from math import sqrt, exp\n",
    "from BS import GBlackScholes\n",
    "import numpy\n",
    "import matplotlib.pyplot as plt"
   ]
  },
  {
   "cell_type": "code",
   "execution_count": 2,
   "id": "hindu-fisher",
   "metadata": {},
   "outputs": [],
   "source": [
    "params = {\n",
    "    'T': 1,\n",
    "    'sigma': 0.5,\n",
    "    'S': 100,\n",
    "    'r': 0.0,\n",
    "    'mu': .1,\n",
    "    'X': 150,\n",
    "    'cost': 1.5\n",
    "}"
   ]
  },
  {
   "cell_type": "code",
   "execution_count": 3,
   "id": "sitting-rochester",
   "metadata": {},
   "outputs": [
    {
     "name": "stdout",
     "output_type": "stream",
     "text": [
      "'Parameters are:'\n",
      "{'S': 100, 'T': 1, 'X': 150, 'cost': 1.5, 'mu': 0.1, 'r': 0.0, 'sigma': 0.5}\n"
     ]
    },
    {
     "data": {
      "text/plain": [
       "0.008053412343664784"
      ]
     },
     "execution_count": 3,
     "metadata": {},
     "output_type": "execute_result"
    }
   ],
   "source": [
    "kelly_opt(**params)"
   ]
  },
  {
   "cell_type": "code",
   "execution_count": 4,
   "id": "missing-paint",
   "metadata": {},
   "outputs": [],
   "source": [
    "# uses a closure to keep track of state\n",
    "def GBM(s0, mu, sigma):\n",
    "    st = s0\n",
    "    dt = 1. / 252.\n",
    "    def generate_value():\n",
    "        nonlocal st\n",
    "\n",
    "        st *= exp((mu - 0.5 * sigma ** 2) * (dt) + sigma * sqrt(dt) * gauss(mu=0, sigma=1))\n",
    "        return st\n",
    "\n",
    "    return generate_value"
   ]
  },
  {
   "cell_type": "code",
   "execution_count": 5,
   "id": "naughty-blood",
   "metadata": {},
   "outputs": [],
   "source": [
    "def mc_paths(S, mu, sigma, m, n):\n",
    "    # pre-initiate output space for m seperate n length day paths\n",
    "    out = numpy.empty((m, n+1))\n",
    "    out[:, 0] = S  # init value\n",
    "    \n",
    "    # not using multithreading yet\n",
    "    for i in range(m):\n",
    "        # get new step function for new state\n",
    "        step = GBM(S, mu, sigma)\n",
    "        for j in range(1,n+1):\n",
    "            out[i,j] = step()\n",
    "    \n",
    "    return out"
   ]
  },
  {
   "cell_type": "code",
   "execution_count": 6,
   "id": "professional-baseball",
   "metadata": {},
   "outputs": [],
   "source": [
    "mc = mc_paths(100, .1, .5, 100000, 252); "
   ]
  },
  {
   "cell_type": "code",
   "execution_count": 7,
   "id": "activated-grocery",
   "metadata": {},
   "outputs": [],
   "source": [
    "mc_results = numpy.array(list(map(lambda x: x[-1], mc)))"
   ]
  },
  {
   "cell_type": "code",
   "execution_count": 8,
   "id": "parallel-serum",
   "metadata": {},
   "outputs": [
    {
     "data": {
      "text/plain": [
       "110.66144714060871"
      ]
     },
     "execution_count": 8,
     "metadata": {},
     "output_type": "execute_result"
    }
   ],
   "source": [
    "numpy.mean(mc_results) # consistent with positive drift"
   ]
  },
  {
   "cell_type": "code",
   "execution_count": 9,
   "id": "express-merit",
   "metadata": {},
   "outputs": [],
   "source": [
    "def call_payoffs(X, arr, cost=0.0):\n",
    "    out = list(map(lambda s: max(s-X, -cost), arr))\n",
    "    return numpy.array(out)\n",
    "\n",
    "def call_return(X, arr, cost):\n",
    "    out = list(map(lambda s: max(s-X, -cost)/cost, arr))\n",
    "    return numpy.array(out)"
   ]
  },
  {
   "cell_type": "code",
   "execution_count": 10,
   "id": "changed-zimbabwe",
   "metadata": {},
   "outputs": [],
   "source": [
    "call_returns = call_return(150, mc_results, 1.5)"
   ]
  },
  {
   "cell_type": "code",
   "execution_count": 11,
   "id": "virgin-belize",
   "metadata": {},
   "outputs": [
    {
     "data": {
      "text/plain": [
       "6.226199114893617"
      ]
     },
     "execution_count": 11,
     "metadata": {},
     "output_type": "execute_result"
    }
   ],
   "source": [
    "numpy.mean(call_returns)"
   ]
  },
  {
   "cell_type": "code",
   "execution_count": 12,
   "id": "standing-hopkins",
   "metadata": {},
   "outputs": [],
   "source": [
    "def getmoms(vec, nm=4):\n",
    "    mc_moms = []\n",
    "    for i in range(nm):\n",
    "        x=i+1\n",
    "        mc_moms.append(raw_moment(vec, x))\n",
    "    return mc_moms\n",
    "\n",
    "mc_moms = getmoms(call_returns)"
   ]
  },
  {
   "cell_type": "code",
   "execution_count": 13,
   "id": "detailed-pricing",
   "metadata": {},
   "outputs": [
    {
     "data": {
      "text/plain": [
       "0.008326211554269531"
      ]
     },
     "execution_count": 13,
     "metadata": {},
     "output_type": "execute_result"
    }
   ],
   "source": [
    "kelly(mc_moms)"
   ]
  },
  {
   "cell_type": "code",
   "execution_count": 14,
   "id": "unnecessary-breakdown",
   "metadata": {},
   "outputs": [
    {
     "name": "stdout",
     "output_type": "stream",
     "text": [
      "'Parameters are:'\n",
      "{'S': 100,\n",
      " 'T': 1,\n",
      " 'X': 50,\n",
      " 'cost': 51.30693496440056,\n",
      " 'mu': 0.1,\n",
      " 'r': 0,\n",
      " 'sigma': 0.5}\n",
      "'Parameters are:'\n",
      "{'S': 100,\n",
      " 'T': 1,\n",
      " 'X': 55,\n",
      " 'cost': 47.055226403150044,\n",
      " 'mu': 0.1,\n",
      " 'r': 0,\n",
      " 'sigma': 0.5}\n",
      "'Parameters are:'\n",
      "{'S': 100,\n",
      " 'T': 1,\n",
      " 'X': 60,\n",
      " 'cost': 43.03477740178362,\n",
      " 'mu': 0.1,\n",
      " 'r': 0,\n",
      " 'sigma': 0.5}\n",
      "'Parameters are:'\n",
      "{'S': 100,\n",
      " 'T': 1,\n",
      " 'X': 65,\n",
      " 'cost': 39.26057061719742,\n",
      " 'mu': 0.1,\n",
      " 'r': 0,\n",
      " 'sigma': 0.5}\n",
      "'Parameters are:'\n",
      "{'S': 100,\n",
      " 'T': 1,\n",
      " 'X': 70,\n",
      " 'cost': 35.74037745302999,\n",
      " 'mu': 0.1,\n",
      " 'r': 0,\n",
      " 'sigma': 0.5}\n",
      "'Parameters are:'\n",
      "{'S': 100,\n",
      " 'T': 1,\n",
      " 'X': 75,\n",
      " 'cost': 32.475711594655436,\n",
      " 'mu': 0.1,\n",
      " 'r': 0,\n",
      " 'sigma': 0.5}\n",
      "'Parameters are:'\n",
      "{'S': 100,\n",
      " 'T': 1,\n",
      " 'X': 80,\n",
      " 'cost': 29.462965797650575,\n",
      " 'mu': 0.1,\n",
      " 'r': 0,\n",
      " 'sigma': 0.5}\n",
      "'Parameters are:'\n",
      "{'S': 100,\n",
      " 'T': 1,\n",
      " 'X': 85,\n",
      " 'cost': 26.694560417900675,\n",
      " 'mu': 0.1,\n",
      " 'r': 0,\n",
      " 'sigma': 0.5}\n",
      "'Parameters are:'\n",
      "{'S': 100,\n",
      " 'T': 1,\n",
      " 'X': 90,\n",
      " 'cost': 24.16000295519605,\n",
      " 'mu': 0.1,\n",
      " 'r': 0,\n",
      " 'sigma': 0.5}\n",
      "'Parameters are:'\n",
      "{'S': 100,\n",
      " 'T': 1,\n",
      " 'X': 95,\n",
      " 'cost': 21.846808609811802,\n",
      " 'mu': 0.1,\n",
      " 'r': 0,\n",
      " 'sigma': 0.5}\n",
      "'Parameters are:'\n",
      "{'S': 100,\n",
      " 'T': 1,\n",
      " 'X': 100,\n",
      " 'cost': 19.741265136584744,\n",
      " 'mu': 0.1,\n",
      " 'r': 0,\n",
      " 'sigma': 0.5}\n",
      "'Parameters are:'\n",
      "{'S': 100,\n",
      " 'T': 1,\n",
      " 'X': 105,\n",
      " 'cost': 17.829045320222583,\n",
      " 'mu': 0.1,\n",
      " 'r': 0,\n",
      " 'sigma': 0.5}\n",
      "'Parameters are:'\n",
      "{'S': 100,\n",
      " 'T': 1,\n",
      " 'X': 110,\n",
      " 'cost': 16.095681194570233,\n",
      " 'mu': 0.1,\n",
      " 'r': 0,\n",
      " 'sigma': 0.5}\n",
      "'Parameters are:'\n",
      "{'S': 100,\n",
      " 'T': 1,\n",
      " 'X': 115,\n",
      " 'cost': 14.526918897855246,\n",
      " 'mu': 0.1,\n",
      " 'r': 0,\n",
      " 'sigma': 0.5}\n",
      "'Parameters are:'\n",
      "{'S': 100,\n",
      " 'T': 1,\n",
      " 'X': 120,\n",
      " 'cost': 13.108974138557578,\n",
      " 'mu': 0.1,\n",
      " 'r': 0,\n",
      " 'sigma': 0.5}\n",
      "'Parameters are:'\n",
      "{'S': 100,\n",
      " 'T': 1,\n",
      " 'X': 125,\n",
      " 'cost': 11.828707247063218,\n",
      " 'mu': 0.1,\n",
      " 'r': 0,\n",
      " 'sigma': 0.5}\n",
      "'Parameters are:'\n",
      "{'S': 100,\n",
      " 'T': 1,\n",
      " 'X': 130,\n",
      " 'cost': 10.673734749949759,\n",
      " 'mu': 0.1,\n",
      " 'r': 0,\n",
      " 'sigma': 0.5}\n",
      "'Parameters are:'\n",
      "{'S': 100,\n",
      " 'T': 1,\n",
      " 'X': 135,\n",
      " 'cost': 9.632491971376112,\n",
      " 'mu': 0.1,\n",
      " 'r': 0,\n",
      " 'sigma': 0.5}\n",
      "'Parameters are:'\n",
      "{'S': 100,\n",
      " 'T': 1,\n",
      " 'X': 140,\n",
      " 'cost': 8.694258714962686,\n",
      " 'mu': 0.1,\n",
      " 'r': 0,\n",
      " 'sigma': 0.5}\n",
      "'Parameters are:'\n",
      "{'S': 100,\n",
      " 'T': 1,\n",
      " 'X': 145,\n",
      " 'cost': 7.849157810335669,\n",
      " 'mu': 0.1,\n",
      " 'r': 0,\n",
      " 'sigma': 0.5}\n",
      "'Parameters are:'\n",
      "{'S': 100,\n",
      " 'T': 1,\n",
      " 'X': 150,\n",
      " 'cost': 7.08813431287048,\n",
      " 'mu': 0.1,\n",
      " 'r': 0,\n",
      " 'sigma': 0.5}\n"
     ]
    }
   ],
   "source": [
    "S = 100\n",
    "r = 0\n",
    "T =1\n",
    "sigma = .5\n",
    "Xrange = range(50,155,5)\n",
    "\n",
    "# montecarlo sim\n",
    "kellymc = []\n",
    "# numerical approximation\n",
    "kelly_num = []\n",
    "for X in Xrange: \n",
    "    pr = GBlackScholes(\"call\", S, X, T, r, sigma, 0.0)\n",
    "    cr = call_return(X, mc_results, pr)\n",
    "    moms = getmoms(cr)\n",
    "    kmc = kelly(moms)\n",
    "    kellymc.append(kmc)\n",
    "    \n",
    "    k = kelly_opt(S=S, T=T, r=r, sigma=sigma, X=X, cost=pr, mu=.1) # mu must match MonteCarlo\n",
    "    kelly_num.append(k)"
   ]
  },
  {
   "cell_type": "code",
   "execution_count": 15,
   "id": "blank-bobby",
   "metadata": {
    "scrolled": false
   },
   "outputs": [
    {
     "data": {
      "text/plain": [
       "Text(0.5, 1.0, 'MC vs Numerical')"
      ]
     },
     "execution_count": 15,
     "metadata": {},
     "output_type": "execute_result"
    },
    {
     "data": {
      "image/png": "[encoded data removed]",
      "text/plain": [
       "<Figure size 864x576 with 1 Axes>"
      ]
     },
     "metadata": {
      "needs_background": "light"
     },
     "output_type": "display_data"
    }
   ],
   "source": [
    "fig, ax = plt.subplots()\n",
    "fig.set_figwidth(12)\n",
    "fig.set_figheight(8)\n",
    "ax.set_xlabel('Call Strike')\n",
    "ax.set_ylabel('Kelly Fraction')\n",
    "ax.plot(Xrange, kellymc, label='Monte Carlo')\n",
    "ax.plot(Xrange, kelly_num, label='Numerical Approx.')\n",
    "ax.legend()\n",
    "ax.set_title('MC vs Numerical')"
   ]
  },
  {
   "cell_type": "code",
   "execution_count": 16,
   "id": "certain-studio",
   "metadata": {},
   "outputs": [
    {
     "name": "stdout",
     "output_type": "stream",
     "text": [
      "'Parameters are:'\n",
      "{'S': 100,\n",
      " 'T': 1,\n",
      " 'X': 150,\n",
      " 'cost': 6.851253473438845e-05,\n",
      " 'mu': 0.1,\n",
      " 'r': 0,\n",
      " 'sigma': 0.1}\n",
      "'Parameters are:'\n",
      "{'S': 100,\n",
      " 'T': 1,\n",
      " 'X': 150,\n",
      " 'cost': 0.019232942790700647,\n",
      " 'mu': 0.1,\n",
      " 'r': 0,\n",
      " 'sigma': 0.15}\n",
      "'Parameters are:'\n",
      "{'S': 100,\n",
      " 'T': 1,\n",
      " 'X': 150,\n",
      " 'cost': 0.19247532329705086,\n",
      " 'mu': 0.1,\n",
      " 'r': 0,\n",
      " 'sigma': 0.2}\n",
      "'Parameters are:'\n",
      "{'S': 100,\n",
      " 'T': 1,\n",
      " 'X': 150,\n",
      " 'cost': 0.671862576200807,\n",
      " 'mu': 0.1,\n",
      " 'r': 0,\n",
      " 'sigma': 0.25}\n",
      "'Parameters are:'\n",
      "{'S': 100,\n",
      " 'T': 1,\n",
      " 'X': 150,\n",
      " 'cost': 1.4858938298202933,\n",
      " 'mu': 0.1,\n",
      " 'r': 0,\n",
      " 'sigma': 0.3}\n",
      "'Parameters are:'\n",
      "{'S': 100,\n",
      " 'T': 1,\n",
      " 'X': 150,\n",
      " 'cost': 2.590487605999474,\n",
      " 'mu': 0.1,\n",
      " 'r': 0,\n",
      " 'sigma': 0.35}\n",
      "'Parameters are:'\n",
      "{'S': 100,\n",
      " 'T': 1,\n",
      " 'X': 150,\n",
      " 'cost': 3.926168888089741,\n",
      " 'mu': 0.1,\n",
      " 'r': 0,\n",
      " 'sigma': 0.4}\n",
      "'Parameters are:'\n",
      "{'S': 100,\n",
      " 'T': 1,\n",
      " 'X': 150,\n",
      " 'cost': 5.439618311567294,\n",
      " 'mu': 0.1,\n",
      " 'r': 0,\n",
      " 'sigma': 0.45}\n",
      "'Parameters are:'\n",
      "{'S': 100,\n",
      " 'T': 1,\n",
      " 'X': 150,\n",
      " 'cost': 7.08813431287048,\n",
      " 'mu': 0.1,\n",
      " 'r': 0,\n",
      " 'sigma': 0.5}\n",
      "'Parameters are:'\n",
      "{'S': 100,\n",
      " 'T': 1,\n",
      " 'X': 150,\n",
      " 'cost': 8.838712447489062,\n",
      " 'mu': 0.1,\n",
      " 'r': 0,\n",
      " 'sigma': 0.55}\n",
      "'Parameters are:'\n",
      "{'S': 100,\n",
      " 'T': 1,\n",
      " 'X': 150,\n",
      " 'cost': 10.666010539550438,\n",
      " 'mu': 0.1,\n",
      " 'r': 0,\n",
      " 'sigma': 0.6}\n",
      "'Parameters are:'\n",
      "{'S': 100,\n",
      " 'T': 1,\n",
      " 'X': 150,\n",
      " 'cost': 12.550456905821576,\n",
      " 'mu': 0.1,\n",
      " 'r': 0,\n",
      " 'sigma': 0.65}\n",
      "'Parameters are:'\n",
      "{'S': 100,\n",
      " 'T': 1,\n",
      " 'X': 150,\n",
      " 'cost': 14.47676508817819,\n",
      " 'mu': 0.1,\n",
      " 'r': 0,\n",
      " 'sigma': 0.7}\n",
      "'Parameters are:'\n",
      "{'S': 100,\n",
      " 'T': 1,\n",
      " 'X': 150,\n",
      " 'cost': 16.432832519610564,\n",
      " 'mu': 0.1,\n",
      " 'r': 0,\n",
      " 'sigma': 0.75}\n",
      "'Parameters are:'\n",
      "{'S': 100,\n",
      " 'T': 1,\n",
      " 'X': 150,\n",
      " 'cost': 18.40893964663157,\n",
      " 'mu': 0.1,\n",
      " 'r': 0,\n",
      " 'sigma': 0.8}\n"
     ]
    }
   ],
   "source": [
    "S = 100\n",
    "r = 0\n",
    "T = 1\n",
    "sigma_range = list(map(lambda x: x / 20, range(2,17)))\n",
    "X = 150\n",
    "\n",
    "# montecarlo sim\n",
    "kellymc = []\n",
    "# numerical approximation\n",
    "kelly_num = []\n",
    "for sigma in sigma_range: \n",
    "    pr = GBlackScholes(\"call\", S, X, T, r, sigma, 0.0)\n",
    "    cr = call_return(X, mc_results, pr)\n",
    "    moms = getmoms(cr)\n",
    "    kmc = kelly(moms)\n",
    "    kellymc.append(round(kmc,6))\n",
    "    \n",
    "    knum = kelly_opt(S=S, T=T, r=r, sigma=sigma, X=X, cost=pr, mu=.1)\n",
    "    kelly_num.append(round(knum,6))\n",
    "    "
   ]
  },
  {
   "cell_type": "code",
   "execution_count": 17,
   "id": "documentary-accreditation",
   "metadata": {},
   "outputs": [
    {
     "data": {
      "text/plain": [
       "Text(0.5, 1.0, 'MC vs Numerical')"
      ]
     },
     "execution_count": 17,
     "metadata": {},
     "output_type": "execute_result"
    },
    {
     "data": {
      "image/png": "[encoded data removed]",
      "text/plain": [
       "<Figure size 864x576 with 1 Axes>"
      ]
     },
     "metadata": {
      "needs_background": "light"
     },
     "output_type": "display_data"
    }
   ],
   "source": [
    "fig, ax = plt.subplots()\n",
    "fig.set_figwidth(12)\n",
    "fig.set_figheight(8)\n",
    "ax.set_xlabel('Volatility')\n",
    "ax.set_ylabel('Kelly Fraction')\n",
    "ax.plot(sigma_range, kellymc, label='Monte Carlo')\n",
    "ax.plot(sigma_range, kelly_num, label='Numerical Approx.')\n",
    "ax.legend()\n",
    "ax.set_title('MC vs Numerical')"
   ]
  },
  {
   "cell_type": "code",
   "execution_count": 18,
   "id": "english-former",
   "metadata": {
    "scrolled": true
   },
   "outputs": [
    {
     "name": "stdout",
     "output_type": "stream",
     "text": [
      "'Parameters are:'\n",
      "{'S': 100,\n",
      " 'T': 1,\n",
      " 'X': 150,\n",
      " 'cost': 7.08813431287048,\n",
      " 'mu': 0.1,\n",
      " 'nmoms': 2,\n",
      " 'r': 0,\n",
      " 'sigma': 0.5}\n",
      "'Parameters are:'\n",
      "{'S': 100,\n",
      " 'T': 1,\n",
      " 'X': 150,\n",
      " 'cost': 7.08813431287048,\n",
      " 'mu': 0.1,\n",
      " 'nmoms': 4,\n",
      " 'r': 0,\n",
      " 'sigma': 0.5}\n",
      "'Parameters are:'\n",
      "{'S': 100,\n",
      " 'T': 1,\n",
      " 'X': 150,\n",
      " 'cost': 7.08813431287048,\n",
      " 'mu': 0.1,\n",
      " 'nmoms': 6,\n",
      " 'r': 0,\n",
      " 'sigma': 0.5}\n",
      "'Parameters are:'\n",
      "{'S': 100,\n",
      " 'T': 1,\n",
      " 'X': 150,\n",
      " 'cost': 7.08813431287048,\n",
      " 'mu': 0.1,\n",
      " 'nmoms': 8,\n",
      " 'r': 0,\n",
      " 'sigma': 0.5}\n",
      "'Parameters are:'\n",
      "{'S': 100,\n",
      " 'T': 1,\n",
      " 'X': 150,\n",
      " 'cost': 7.08813431287048,\n",
      " 'mu': 0.1,\n",
      " 'nmoms': 10,\n",
      " 'r': 0,\n",
      " 'sigma': 0.5}\n",
      "'Parameters are:'\n",
      "{'S': 100,\n",
      " 'T': 1,\n",
      " 'X': 150,\n",
      " 'cost': 7.08813431287048,\n",
      " 'mu': 0.1,\n",
      " 'nmoms': 12,\n",
      " 'r': 0,\n",
      " 'sigma': 0.5}\n",
      "'Parameters are:'\n",
      "{'S': 100,\n",
      " 'T': 1,\n",
      " 'X': 150,\n",
      " 'cost': 7.08813431287048,\n",
      " 'mu': 0.1,\n",
      " 'nmoms': 14,\n",
      " 'r': 0,\n",
      " 'sigma': 0.5}\n",
      "'Parameters are:'\n",
      "{'S': 100,\n",
      " 'T': 1,\n",
      " 'X': 150,\n",
      " 'cost': 7.08813431287048,\n",
      " 'mu': 0.1,\n",
      " 'nmoms': 16,\n",
      " 'r': 0,\n",
      " 'sigma': 0.5}\n",
      "'Parameters are:'\n",
      "{'S': 100,\n",
      " 'T': 1,\n",
      " 'X': 150,\n",
      " 'cost': 7.08813431287048,\n",
      " 'mu': 0.1,\n",
      " 'nmoms': 18,\n",
      " 'r': 0,\n",
      " 'sigma': 0.5}\n"
     ]
    }
   ],
   "source": [
    "S = 100\n",
    "r = 0\n",
    "T = 1\n",
    "sigma = .5\n",
    "X = 150\n",
    "nms = range(2,20,2)\n",
    "\n",
    "pr = GBlackScholes(\"call\", S, X, T, r, sigma, 0.0)\n",
    "cr = call_return(X, mc_results, pr)\n",
    "\n",
    "kellymc = []\n",
    "kk = []\n",
    "for n in nms:\n",
    "    moms = getmoms(cr, n)\n",
    "    kmc = kelly(moms)\n",
    "    kellymc.append(round(kmc,6))\n",
    "    \n",
    "    k = kelly_opt(S=S, T=T, r=r, sigma=sigma, X=X, cost=pr, mu=.1, nmoms=n)\n",
    "    kk.append(k)"
   ]
  },
  {
   "cell_type": "code",
   "execution_count": 19,
   "id": "irish-north",
   "metadata": {
    "scrolled": true
   },
   "outputs": [
    {
     "data": {
      "text/plain": [
       "Text(0.5, 1.0, 'How Many Moments')"
      ]
     },
     "execution_count": 19,
     "metadata": {},
     "output_type": "execute_result"
    },
    {
     "data": {
      "image/png": "[encoded data removed]",
      "text/plain": [
       "<Figure size 864x576 with 1 Axes>"
      ]
     },
     "metadata": {
      "needs_background": "light"
     },
     "output_type": "display_data"
    }
   ],
   "source": [
    "fig, ax = plt.subplots()\n",
    "fig.set_figwidth(12)\n",
    "fig.set_figheight(8)\n",
    "ax.set_xlabel('# of Moments Used')\n",
    "ax.set_ylabel('Kelly Fraction')\n",
    "ax.plot(list(nms), kellymc, label='MonteCarlo')\n",
    "ax.plot(list(nms), kk, label='Numerical')\n",
    "ax.legend()\n",
    "ax.set_title('How Many Moments')"
   ]
  },
  {
   "cell_type": "code",
   "execution_count": null,
   "id": "wanted-bulgarian",
   "metadata": {},
   "outputs": [],
   "source": []
  }
 ],
 "metadata": {
  "kernelspec": {
   "display_name": "Python 3",
   "language": "python",
   "name": "python3"
  },
  "language_info": {
   "codemirror_mode": {
    "name": "ipython",
    "version": 3
   },
   "file_extension": ".py",
   "mimetype": "text/x-python",
   "name": "python",
   "nbconvert_exporter": "python",
   "pygments_lexer": "ipython3",
   "version": "3.9.1"
  }
 },
 "nbformat": 4,
 "nbformat_minor": 5
}
